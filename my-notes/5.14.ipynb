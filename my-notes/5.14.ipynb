{
 "cells": [
  {
   "cell_type": "markdown",
   "metadata": {},
   "source": [
    "# 5.14"
   ]
  },
  {
   "cell_type": "markdown",
   "metadata": {},
   "source": [
    "今天继续往下看了几篇，挺有意思的。本来以为是来看一本讲关于自学的书的，谁知道从刚开始装 anaconda，git，学 jupter lab，到现在的看这本书，结果竟然全部都在学编程或者称为技术的知识。而且，之后可能讲的更多是关于编程的。不过总的来说，这应该是一本通过编程入门来介绍自学这个主题的书。不错，嘿嘿！"
   ]
  },
  {
   "cell_type": "markdown",
   "metadata": {},
   "source": [
    "而且在写这个的过程中，还解决了`GitHub 进行 fork 后如何与原仓库同步`这个问题。有时候想想还挺奇怪的，前两天看见这个问题就烦，看不进去，今天写笔记的时候突然就想看看，然后竟然发现特别容易，几行代码就解决问题的。**所以，有的时候当你看不进去的时候，放一放，之后再看一下可能就很容易的解决了。**"
   ]
  },
  {
   "cell_type": "markdown",
   "metadata": {},
   "source": [
    "那么，现在就还剩下一个疑问了，`怎么给原仓库 pull request`,这个问题之后也顺便给解决掉。"
   ]
  }
 ],
 "metadata": {
  "kernelspec": {
   "display_name": "Python 3",
   "language": "python",
   "name": "python3"
  },
  "language_info": {
   "codemirror_mode": {
    "name": "ipython",
    "version": 3
   },
   "file_extension": ".py",
   "mimetype": "text/x-python",
   "name": "python",
   "nbconvert_exporter": "python",
   "pygments_lexer": "ipython3",
   "version": "3.7.3"
  }
 },
 "nbformat": 4,
 "nbformat_minor": 2
}
